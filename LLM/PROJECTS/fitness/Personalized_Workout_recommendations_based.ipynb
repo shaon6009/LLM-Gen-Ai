{
  "nbformat": 4,
  "nbformat_minor": 0,
  "metadata": {
    "colab": {
      "provenance": []
    },
    "kernelspec": {
      "name": "python3",
      "display_name": "Python 3"
    },
    "language_info": {
      "name": "python"
    }
  },
  "cells": [
    {
      "cell_type": "code",
      "execution_count": 16,
      "metadata": {
        "id": "ThztsMkX5dl-"
      },
      "outputs": [],
      "source": [
        "!pip install -q gradio langchain langchain-groq"
      ]
    },
    {
      "cell_type": "code",
      "source": [
        "import gradio as gr\n",
        "from langchain_groq import ChatGroq\n",
        "from langchain.chains import LLMChain\n",
        "from langchain.prompts import PromptTemplate\n",
        "\n",
        "llm = ChatGroq(\n",
        "    api_key=\"your api key\",\n",
        "    model=\"llama-3.3-70b-versatile\",\n",
        "    temperature=0.0\n",
        ")\n",
        "\n",
        "prompt_template = PromptTemplate(\n",
        "    input_variables=[\n",
        "        'age', 'gender', 'weight', 'height', 'diet_type', 'disease',\n",
        "        'region', 'allergics', 'foodtype', 'body_type', 'goal',\n",
        "        'budget', 'workout_time', 'food_source', 'growth_pref'\n",
        "    ],\n",
        "    template=(\n",
        "        \"You are a professional AI fitness and diet coach.\\n\\n\"\n",
        "        \"User Profile:\\n\"\n",
        "        \"- Age: {age}, Gender: {gender}, Weight: {weight} kg, Height: {height} ft\\n\"\n",
        "        \"- Diet: {diet_type}, Disease: {disease}, Region: {region}, Allergies: {allergics}\\n\"\n",
        "        \"- Food Preference: {foodtype}, Body Type: {body_type}, Goal: {goal}\\n\"\n",
        "        \"- Budget: {budget}/day, Workout Time: {workout_time} mins/day\\n\"\n",
        "        \"- Food Source: {food_source}, Growth Mode: {growth_pref}\\n\\n\"\n",
        "        \"Instructions:\\n\"\n",
        "        \"1. If the user selected 'Home-cooked food', DO NOT provide any restaurant suggestions.\\n\"\n",
        "        \"2. If the user selected 'Restaurant food', suggest 5 local dishes from regional restaurants, suitable for their dietary preferences and health.\\n\"\n",
        "        \"3. For each food suggestion (home or restaurant), show **calories per 100g**.\\n\"\n",
        "        \"4. Provide 5–6 breakfast ideas ,5 lunch meal and 5 dinner meals.\\n\"\n",
        "        \"5. Provide a detailed workout plan with sets, reps, rest, and muscle group info.\\n\"\n",
        "        \"6. Include water intake recommendation based on weight and fitness goal.\\n\"\n",
        "        \"7. Summarize why this plan is tailored to the user's profile.\\n\\n\"\n",
        "        \"Output in well-organized, bullet-pointed sections.\"\n",
        "    )\n",
        ")\n",
        "\n",
        "chain = LLMChain(llm=llm, prompt=prompt_template)\n",
        "\n",
        "def recommend(\n",
        "    age, gender, weight, height, diet_type, disease, region,\n",
        "    allergies, foodtype, body_type, goal, budget, workout_time,\n",
        "    food_source, growth_pref\n",
        "):\n",
        "    input_data = {\n",
        "        \"age\": age,\n",
        "        \"gender\": gender,\n",
        "        \"weight\": weight,\n",
        "        \"height\": height,\n",
        "        \"diet_type\": diet_type,\n",
        "        \"disease\": disease,\n",
        "        \"region\": region,\n",
        "        \"allergics\": allergies,\n",
        "        \"foodtype\": foodtype,\n",
        "        \"body_type\": body_type,\n",
        "        \"goal\": goal,\n",
        "        \"budget\": budget,\n",
        "        \"workout_time\": workout_time,\n",
        "        \"food_source\": food_source,\n",
        "        \"growth_pref\": growth_pref\n",
        "    }\n",
        "    return chain.run(input_data)\n",
        "\n",
        "# Gradio UI\n",
        "with gr.Blocks(theme='Respair/Shiki@1.2.2') as demo:\n",
        "    gr.Markdown(\"## 🧠 AI Fitness & Nutrition Coach\")\n",
        "    gr.Markdown(\"Input your personal data to receive a personalized fitness, diet, and hydration plan.\")\n",
        "\n",
        "    with gr.Row():\n",
        "        age = gr.Slider(10, 80, step=1, label=\"Age\")\n",
        "        gender = gr.Radio(['Male', 'Female', 'Other'], label=\"Gender\")\n",
        "        weight = gr.Number(label=\"Weight (kg)\")\n",
        "        height = gr.Slider(4.0, 7.5, step=0.1, label=\"Height (ft)\")\n",
        "\n",
        "    with gr.Row():\n",
        "        diet_type = gr.Radio(['Veg', 'Non-Veg', 'Both Veg & Non-Veg'], label=\"Diet Type\")\n",
        "        disease = gr.Textbox(label=\"Diseases (e.g. diabetes, none)\")\n",
        "        region = gr.Textbox(label=\"Region (e.g. Dhaka - Bangladesh)\")\n",
        "\n",
        "    with gr.Row():\n",
        "        allergies = gr.Textbox(label=\"Allergies (comma-separated)\")\n",
        "        foodtype = gr.Textbox(label=\"Food Preference (e.g. Bengali, Italian, Chinese Indian)\")\n",
        "\n",
        "    with gr.Row():\n",
        "        body_type = gr.Radio(['Ectomorph', 'Mesomorph', 'Endomorph'], label=\"Body Type\")\n",
        "        goal = gr.Radio(['Lose Weight', 'Gain Muscle', 'Maintain'], label=\"Goal\")\n",
        "\n",
        "    with gr.Row():\n",
        "        budget = gr.Number(label=\"Meal Budget (per day)\")\n",
        "        workout_time = gr.Slider(10, 120, step=5, label=\"Workout Time (minutes/day)\")\n",
        "\n",
        "    with gr.Row():\n",
        "        food_source = gr.Radio(['Home-cooked food', 'Restaurant food'], label=\"Food Source Preference\")\n",
        "        growth_pref = gr.Radio(['Natural', 'Steroid-supported'], label=\"Growth Mode\")\n",
        "\n",
        "    output = gr.Textbox(label=\"📋 Personalized AI Plan\", lines=25)\n",
        "    submit = gr.Button(\"Generate My Fitness Plan\")\n",
        "\n",
        "    submit.click(fn=recommend, inputs=[\n",
        "        age, gender, weight, height, diet_type, disease, region,\n",
        "        allergies, foodtype, body_type, goal, budget, workout_time,\n",
        "        food_source, growth_pref\n",
        "    ], outputs=output)\n",
        "\n",
        "demo.launch(share=True)"
      ],
      "metadata": {
        "colab": {
          "base_uri": "https://localhost:8080/",
          "height": 591
        },
        "id": "XLS92yke5pBl",
        "outputId": "717d572d-ee6c-45ee-e6da-10e2956cbda2"
      },
      "execution_count": 17,
      "outputs": [
        {
          "output_type": "stream",
          "name": "stdout",
          "text": [
            "Colab notebook detected. To show errors in colab notebook, set debug=True in launch()\n",
            "* Running on public URL: https://b2ad6982c5cbe0b1df.gradio.live\n",
            "\n",
            "This share link expires in 1 week. For free permanent hosting and GPU upgrades, run `gradio deploy` from the terminal in the working directory to deploy to Hugging Face Spaces (https://huggingface.co/spaces)\n"
          ]
        },
        {
          "output_type": "display_data",
          "data": {
            "text/plain": [
              "<IPython.core.display.HTML object>"
            ],
            "text/html": [
              "<div><iframe src=\"https://b2ad6982c5cbe0b1df.gradio.live\" width=\"100%\" height=\"500\" allow=\"autoplay; camera; microphone; clipboard-read; clipboard-write;\" frameborder=\"0\" allowfullscreen></iframe></div>"
            ]
          },
          "metadata": {}
        },
        {
          "output_type": "execute_result",
          "data": {
            "text/plain": []
          },
          "metadata": {},
          "execution_count": 17
        }
      ]
    }
  ]
}